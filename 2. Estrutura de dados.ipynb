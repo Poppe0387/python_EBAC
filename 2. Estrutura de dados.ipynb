{
  "nbformat": 4,
  "nbformat_minor": 0,
  "metadata": {
    "colab": {
      "provenance": []
    },
    "kernelspec": {
      "name": "python3",
      "display_name": "Python 3"
    }
  },
  "cells": [
    {
      "cell_type": "markdown",
      "metadata": {
        "id": "KJqp9AANOCtf"
      },
      "source": [
        "<img src=\"https://raw.githubusercontent.com/andre-marcos-perez/ebac-course-utils/main/media/logo/newebac_logo_black_half.png\" alt=\"ebac-logo\">\n",
        "\n",
        "---\n",
        "\n",
        "# **Módulo 02** | Python: Estruturas de Dados\n",
        "Caderno de **Exercícios**<br> \n",
        "Professor [André Perez](https://www.linkedin.com/in/andremarcosperez/)\n",
        "\n",
        "---"
      ]
    },
    {
      "cell_type": "markdown",
      "metadata": {
        "id": "d9jDtUbDOE1-"
      },
      "source": [
        "# **Tópicos**\n",
        "\n",
        "<ol type=\"1\">\n",
        "  <li>Listas;</li>\n",
        "  <li>Conjuntos;</li>\n",
        "  <li>Dicionários.</li>\n",
        "</ol>"
      ]
    },
    {
      "cell_type": "markdown",
      "metadata": {
        "id": "SmoHgt-lwkpD"
      },
      "source": [
        "---"
      ]
    },
    {
      "cell_type": "markdown",
      "metadata": {
        "id": "GABI6OW8OfQ2"
      },
      "source": [
        "# **Exercícios**"
      ]
    },
    {
      "cell_type": "markdown",
      "metadata": {
        "id": "muD1vxozykSC"
      },
      "source": [
        "## 1\\. Listas"
      ]
    },
    {
      "cell_type": "markdown",
      "metadata": {
        "id": "ahrFfCuBxJKs"
      },
      "source": [
        "Criei uma lista chamada `filmes` com o nome dos 10 primeiros filmes mais bem avaliados no site no [IMDB](https://www.imdb.com/chart/top/). Imprima o resultado."
      ]
    },
    {
      "cell_type": "code",
      "metadata": {
        "id": "OgL6Hv3bzOHI",
        "colab": {
          "base_uri": "https://localhost:8080/"
        },
        "outputId": "ad16ce12-862d-45f1-eeba-186f4de8c4ed"
      },
      "source": [
        "filmes = ['Um sonho de liberdade','O Poderoso Chefão','Batman: O Cavalheiro das Trevas','O Poderoso Chefão II','12 Homens e uma sentença','A Lista de Schindler','O Senhor dos Anéis: O Retorno do Rei','Pulp Fiction: Tempo de Violência','O Senhor dos Anéis: A Sociedade do Anel','Três Homens em Conflito']\n",
        "print(filmes)"
      ],
      "execution_count": 2,
      "outputs": [
        {
          "output_type": "stream",
          "name": "stdout",
          "text": [
            "['Um sonho de liberdade', 'O Poderoso Chefão', 'Batman: O Cavalheiro das Trevas', 'O Poderoso Chefão II', '12 Homens e uma sentença', 'A Lista de Schindler', 'O Senhor dos Anéis: O Retorno do Rei', 'Pulp Fiction: Tempo de Violência', 'O Senhor dos Anéis: A Sociedade do Anel', 'Três Homens em Conflito']\n"
          ]
        }
      ]
    },
    {
      "cell_type": "markdown",
      "metadata": {
        "id": "KI9zQRT2xa7m"
      },
      "source": [
        "Simule a movimentação do *ranking*. Utilize os métodos `insert` e `pop` para trocar a posição do primeiro e do segundo filme da lista. Imprima o resultado.\n",
        "\n"
      ]
    },
    {
      "cell_type": "code",
      "source": [
        "filmes.insert (0, 'O poderoso Chefão')\n",
        "\n",
        "print(filmes)"
      ],
      "metadata": {
        "id": "W1At0IrBV1xa",
        "colab": {
          "base_uri": "https://localhost:8080/"
        },
        "outputId": "8227fd8c-6d41-4667-e34c-50ca186a4041"
      },
      "execution_count": 4,
      "outputs": [
        {
          "output_type": "stream",
          "name": "stdout",
          "text": [
            "['O poderoso Chefão', 'Um sonho de liberdade', 'O Poderoso Chefão', 'Batman: O Cavalheiro das Trevas', 'O Poderoso Chefão II', '12 Homens e uma sentença', 'A Lista de Schindler', 'O Senhor dos Anéis: O Retorno do Rei', 'Pulp Fiction: Tempo de Violência', 'O Senhor dos Anéis: A Sociedade do Anel', 'Três Homens em Conflito', 'Pulp Fiction: Tempo de Violência', 'O Senhor dos Anéis: A Sociedade do Anel', 'Três Homens em Conflito']\n"
          ]
        }
      ]
    },
    {
      "cell_type": "markdown",
      "metadata": {
        "id": "zMN1Q3jdwoJm"
      },
      "source": [
        "---"
      ]
    },
    {
      "cell_type": "code",
      "source": [
        "filmes_removidos = filmes.pop(2)\n",
        "\n",
        "print(filmes_removidos)"
      ],
      "metadata": {
        "id": "CC8HrcgEV7Ta",
        "colab": {
          "base_uri": "https://localhost:8080/"
        },
        "outputId": "49790394-1ecc-4ec3-a913-02d87936983f"
      },
      "execution_count": 5,
      "outputs": [
        {
          "output_type": "stream",
          "name": "stdout",
          "text": [
            "O Poderoso Chefão\n"
          ]
        }
      ]
    },
    {
      "cell_type": "code",
      "source": [
        "print(filmes)"
      ],
      "metadata": {
        "id": "BFn_GFdMWF5C",
        "colab": {
          "base_uri": "https://localhost:8080/"
        },
        "outputId": "1f3098db-b022-46a5-a57f-135c5ea6adde"
      },
      "execution_count": 6,
      "outputs": [
        {
          "output_type": "stream",
          "name": "stdout",
          "text": [
            "['O poderoso Chefão', 'Um sonho de liberdade', 'Batman: O Cavalheiro das Trevas', 'O Poderoso Chefão II', '12 Homens e uma sentença', 'A Lista de Schindler', 'O Senhor dos Anéis: O Retorno do Rei', 'Pulp Fiction: Tempo de Violência', 'O Senhor dos Anéis: A Sociedade do Anel', 'Três Homens em Conflito', 'Pulp Fiction: Tempo de Violência', 'O Senhor dos Anéis: A Sociedade do Anel', 'Três Homens em Conflito']\n"
          ]
        }
      ]
    },
    {
      "cell_type": "markdown",
      "metadata": {
        "id": "lxa5L6uF0ZJE"
      },
      "source": [
        "## 2\\. Conjuntos"
      ]
    },
    {
      "cell_type": "markdown",
      "metadata": {
        "id": "9JahS2Kj0d5u"
      },
      "source": [
        "Aconteceu um erro no seu *ranking*. Simule a duplicação dos três últimos filmes da lista. Imprima o resultado."
      ]
    },
    {
      "cell_type": "code",
      "metadata": {
        "id": "BnjnLBNC6PGe",
        "colab": {
          "base_uri": "https://localhost:8080/"
        },
        "outputId": "23971a58-dc71-4398-9dda-70c5a7fe9d79"
      },
      "source": [
        "filmes.append('Pulp Fiction: Tempo de Violência')\n",
        "filmes.append('O Senhor dos Anéis: A Sociedade do Anel')\n",
        "filmes.append('Três Homens em Conflito')\n",
        "print(filmes)"
      ],
      "execution_count": 7,
      "outputs": [
        {
          "output_type": "stream",
          "name": "stdout",
          "text": [
            "['O poderoso Chefão', 'Um sonho de liberdade', 'Batman: O Cavalheiro das Trevas', 'O Poderoso Chefão II', '12 Homens e uma sentença', 'A Lista de Schindler', 'O Senhor dos Anéis: O Retorno do Rei', 'Pulp Fiction: Tempo de Violência', 'O Senhor dos Anéis: A Sociedade do Anel', 'Três Homens em Conflito', 'Pulp Fiction: Tempo de Violência', 'O Senhor dos Anéis: A Sociedade do Anel', 'Três Homens em Conflito', 'Pulp Fiction: Tempo de Violência', 'O Senhor dos Anéis: A Sociedade do Anel', 'Três Homens em Conflito']\n"
          ]
        }
      ]
    },
    {
      "cell_type": "markdown",
      "metadata": {
        "id": "suxTfCJB6ZiX"
      },
      "source": [
        "Utiliza a conversão `set` e `list` para remover os valores duplicados. Imprima o resultado. "
      ]
    },
    {
      "cell_type": "code",
      "source": [
        "filmes_sem_duplicatas = list(set(filmes))\n",
        "print(filmes_sem_duplicatas)"
      ],
      "metadata": {
        "colab": {
          "base_uri": "https://localhost:8080/"
        },
        "id": "ICBEyr80sOvB",
        "outputId": "75c31ac1-eb50-406e-cd0e-beb8d0eb5ecf"
      },
      "execution_count": 8,
      "outputs": [
        {
          "output_type": "stream",
          "name": "stdout",
          "text": [
            "['Pulp Fiction: Tempo de Violência', 'O poderoso Chefão', 'Batman: O Cavalheiro das Trevas', 'Três Homens em Conflito', 'A Lista de Schindler', '12 Homens e uma sentença', 'O Senhor dos Anéis: O Retorno do Rei', 'O Senhor dos Anéis: A Sociedade do Anel', 'Um sonho de liberdade', 'O Poderoso Chefão II']\n"
          ]
        }
      ]
    },
    {
      "cell_type": "markdown",
      "metadata": {
        "id": "ShkK35eQ6pAM"
      },
      "source": [
        "---"
      ]
    },
    {
      "cell_type": "markdown",
      "metadata": {
        "id": "EL_FzmxL6rTv"
      },
      "source": [
        "## 3\\. Dicionários"
      ]
    },
    {
      "cell_type": "markdown",
      "metadata": {
        "id": "i8l0gFqRCpfT"
      },
      "source": [
        "Repita os exercícios da parte 1 (listas). Os elementos da lista `filmes` devem ser dicionários no seguinte formato: `{'nome': <nome-do-filme>, 'ano': <ano do filme>}, 'sinopse': <sinopse do filme>}`. "
      ]
    },
    {
      "cell_type": "code",
      "source": [
        "filmes = {\n",
        "    'Ranking_1': {\n",
        "    'Nome':'Um sonho de liberdade',\n",
        "    'Ano_de_lançamento':1994,\n",
        "    'Sinopse':'Em 1946, Andy Dufresne (Tim Robbins), um jovem e bem sucedido banqueiro, tem a sua vida radicalmente modificada ao ser condenado por um crime que nunca cometeu, o homicídio de sua esposa e do amante dela. Ele é mandado para uma prisão que é o pesadelo de qualquer detento, a Penitenciária Estadual de Shawshank, no Maine. Lá ele irá cumprir a pena perpétua. Andy logo será apresentado a Warden Norton (Bob Gunton), o corrupto e cruel agente penitenciário, que usa a Bíblia como arma de controle e ao Capitão Byron Hadley (Clancy Brown) que trata os internos como animais. Andy faz amizade com Ellis Boyd Redding (Morgan Freeman), um prisioneiro que cumpre pena há 20 anos e controla o mercado negro da instituição.'\n",
        "    },\n",
        "\n",
        "   'Ranking_2': {\n",
        "    'Nome':'O poderoso chefão',\n",
        "    'Ano_de_lançamento':1972,\n",
        "    'Sinopse':'Connie, a filha de Don Corleone, está se casando. Como um senhor feudal, ele recebe os cumprimentos e promessas de lealdade dos parentes e clientes. Os outros filhos estão presentes: o sangue quente Sony, o mais velho que irá substitui-lo, e Fredo, que não se adequa aos negócios da família. O preferido é o mais novo, Michael, que voltou como herói da II Guerra Mundial e não tem nenhum envolvimento com a máfia. Porém, devido à incapacidade do pai, se vê forçado a assumir a liderança da família, contrariando o que o pai queria para seu futuro.'\n",
        "   },\n",
        "\n",
        "   'Ranking_3': {\n",
        "    'Nome':'Batman: O cavalheiro da trevas',\n",
        "    'Ano_de_lançamento':2008,\n",
        "    'Sinopse':'Após dois anos desde o surgimento do Batman (Christian Bale), os criminosos de Gotham City têm muito o que temer. Com a ajuda do tenente James Gordon (Gary Oldman) e do promotor público Harvey Dent (Aaron Eckhart), Batman luta contra o crime organizado. Acuados com o combate, os chefes do crime aceitam a proposta feita pelo Coringa (Heath Ledger) e o contratam para combater o Homem-Morcego.'\n",
        "   },\n",
        "\n",
        "   'Ranking_4': {\n",
        "    'Nome':'O poderoso chefão II',\n",
        "    'Ano_de_lançamento':1974,\n",
        "    'Sinopse':'Início do século XX. Após a máfia local matar sua família, o jovem Vito (Robert De Niro) foge da sua cidade na Sicília e vai para a América. Já adulto em Little Italy, Vito luta para ganhar a vida (legal ou ilegalmente) e manter sua esposa e filhos. Ele mata Black Hand Fanucci (Gastone Moschin), que exigia dos comerciantes uma parte dos seus ganhos. Com a morte de Fanucci, o poderio de Vito cresce muito, mas sua família é o que mais importa para ele. Um legado de família que vai até os enormes negócios que nos anos 50 são controlados pelo caçula, Michael Corleone (Al Pacino). Agora baseado em Lago Tahoe, Michael planeja fazer incursões em Las Vegas e Havana instalando negócios ligados ao lazer, mas descobre que aliados como Hyman Roth (Lee Strasberg) estão tentando matá-lo. Crescentemente paranoico, Michael também descobre que sua ambição acabou com seu casamento com Kay (Diane Keaton) e até mesmo seu irmão Fredo (John Cazale) o traiu. Escapando de uma acusação federal, Michael concentra sua atenção para lidar com os seus inimigos.'\n",
        "   },\n",
        "\n",
        "   'Ranking_5': {\n",
        "    'Nome':'12 homens e uma sentença',\n",
        "    'Ano_de_lançamento':1957,\n",
        "    'Sinopse':'Um jovem porto-riquenho é acusado do brutal crime de ter matado o próprio pai. Quando ele vai a julgamento, doze jurados se reúnem para decidir a sentença, levando em conta que o réu deve ser considerado inocente até que se prove o contrário. Onze dos jurados têm plena certeza de que ele é culpado, e votam pela condenação, mas um jurado acha que é melhor investigar mais para que a sentença seja correta. Para isso ele terá que enfrentar diferentes interpretações dos fatos, e a má vontade dos outros jurados, que só querem ir logo para suas casas.'\n",
        "   },\n",
        "\n",
        "   'Ranking_6': {\n",
        "    'Nome':'A lista de Schindler',\n",
        "    'Ano_de_lançamento':1993,\n",
        "    'Sinopse':'A inusitada história de Oskar Schindler (Liam Neeson), um sujeito oportunista, sedutor, \"armador\", simpático, comerciante no mercado negro, mas, acima de tudo, um homem que se relacionava muito bem com o regime nazista, tanto que era membro do próprio Partido Nazista (o que não o impediu de ser preso algumas vezes, mas sempre o libertavam rapidamente, em razão dos seus contatos). No entanto, apesar dos seus defeitos, ele amava o ser humano e assim fez o impossível, a ponto de perder a sua fortuna mas conseguir salvar mais de mil judeus dos campos de concentração.'\n",
        "   },\n",
        "\n",
        "   'Ranking_7': {\n",
        "    'Nome':'O Senhor do Anéis: O retorno do Rei',\n",
        "    'Ano_de_lançamento':2003,\n",
        "    'Sinopse':'Sauron planeja um grande ataque a Minas Tirith, capital de Gondor, o que faz com que Gandalf e Pippin partam para o local na intenção de ajudar a resistência. Um exército é reunido por Theoden em Rohan, em mais uma tentativa de deter as forças de Sauron. Enquanto isso Frodo, Sam e Gollum seguem sua viagem rumo à Montanha da Perdição, para destruir o Um Anel.'\n",
        "   },\n",
        "\n",
        "   'Ranking_8': {\n",
        "    'Nome':'Pulp Fiction: tempo de violência',\n",
        "    'Ano_de_lançamento':1994,\n",
        "    'Sinopse':'Vincent Vega (John Travolta) e Jules Winnfield (Samuel L. Jackson) são dois assassinos profissionais trabalham fazendo cobranças para Marsellus Wallace (Ving Rhames), um poderosos gângster. Vega é forçado a sair com a garota do chefe, temendo passar dos limites; enquanto isso, o pugilista Butch Coolidge (Bruce Willis) se mete em apuros por ganhar luta que deveria perder.'\n",
        "   },\n",
        "\n",
        "   'Ranking_9': {\n",
        "    'Nome':'O Senhor dos Anéis: A sociedade do Anel',\n",
        "    'Ano_de_lançamento':2001,\n",
        "    'Sinopse':'Numa terra fantástica e única, chamada Terra-Média, um hobbit (seres de estatura entre 80 cm e 1,20 m, com pés peludos e bochechas um pouco avermelhadas) recebe de presente de seu tio o Um Anel, um anel mágico e maligno que precisa ser destruído antes que caia nas mãos do mal. Para isso o hobbit Frodo (Elijah Woods) terá um caminho árduo pela frente, onde encontrará perigo, medo e personagens bizarros. Ao seu lado para o cumprimento desta jornada aos poucos ele poderá contar com outros hobbits, um elfo, um anão, dois humanos e um mago, totalizando 9 pessoas que formarão a Sociedade do Anel.'\n",
        "   },\n",
        "\n",
        "   'Ranking_10': {\n",
        "    'Nome':'Três homens em conflito',\n",
        "    'Ano_de_lançamento':1966,\n",
        "    'Sinopse':'Em meio à Guerra Civil Norte-americana, três homens fazem de tudo para colocar as mãos em US$ 200 mil roubados, utilizando estratagemas diferentes, correndo contra o tempo e a concorrência voraz.'\n",
        "   }\n",
        "\n",
        "}\n",
        "\n",
        "print(filmes)"
      ],
      "metadata": {
        "id": "PN8LWA1ebwCn",
        "colab": {
          "base_uri": "https://localhost:8080/"
        },
        "outputId": "0b3a8f0e-1a0b-4da8-d5fb-75852bd87b0b"
      },
      "execution_count": null,
      "outputs": [
        {
          "output_type": "stream",
          "name": "stdout",
          "text": [
            "{'Ranking_1': {'Nome': 'Um sonho de liberdade', 'Ano_de_lançamento': 1994, 'Sinopse': 'Em 1946, Andy Dufresne (Tim Robbins), um jovem e bem sucedido banqueiro, tem a sua vida radicalmente modificada ao ser condenado por um crime que nunca cometeu, o homicídio de sua esposa e do amante dela. Ele é mandado para uma prisão que é o pesadelo de qualquer detento, a Penitenciária Estadual de Shawshank, no Maine. Lá ele irá cumprir a pena perpétua. Andy logo será apresentado a Warden Norton (Bob Gunton), o corrupto e cruel agente penitenciário, que usa a Bíblia como arma de controle e ao Capitão Byron Hadley (Clancy Brown) que trata os internos como animais. Andy faz amizade com Ellis Boyd Redding (Morgan Freeman), um prisioneiro que cumpre pena há 20 anos e controla o mercado negro da instituição.'}, 'Ranking_2': {'Nome': 'O poderoso chefão', 'Ano_de_lançamento': 1972, 'Sinopse': 'Connie, a filha de Don Corleone, está se casando. Como um senhor feudal, ele recebe os cumprimentos e promessas de lealdade dos parentes e clientes. Os outros filhos estão presentes: o sangue quente Sony, o mais velho que irá substitui-lo, e Fredo, que não se adequa aos negócios da família. O preferido é o mais novo, Michael, que voltou como herói da II Guerra Mundial e não tem nenhum envolvimento com a máfia. Porém, devido à incapacidade do pai, se vê forçado a assumir a liderança da família, contrariando o que o pai queria para seu futuro.'}, 'Ranking_3': {'Nome': 'Batman: O cavalheiro da trevas', 'Ano_de_lançamento': 2008, 'Sinopse': 'Após dois anos desde o surgimento do Batman (Christian Bale), os criminosos de Gotham City têm muito o que temer. Com a ajuda do tenente James Gordon (Gary Oldman) e do promotor público Harvey Dent (Aaron Eckhart), Batman luta contra o crime organizado. Acuados com o combate, os chefes do crime aceitam a proposta feita pelo Coringa (Heath Ledger) e o contratam para combater o Homem-Morcego.'}, 'Ranking_4': {'Nome': 'O poderoso chefão II', 'Ano_de_lançamento': 1974, 'Sinopse': 'Início do século XX. Após a máfia local matar sua família, o jovem Vito (Robert De Niro) foge da sua cidade na Sicília e vai para a América. Já adulto em Little Italy, Vito luta para ganhar a vida (legal ou ilegalmente) e manter sua esposa e filhos. Ele mata Black Hand Fanucci (Gastone Moschin), que exigia dos comerciantes uma parte dos seus ganhos. Com a morte de Fanucci, o poderio de Vito cresce muito, mas sua família é o que mais importa para ele. Um legado de família que vai até os enormes negócios que nos anos 50 são controlados pelo caçula, Michael Corleone (Al Pacino). Agora baseado em Lago Tahoe, Michael planeja fazer incursões em Las Vegas e Havana instalando negócios ligados ao lazer, mas descobre que aliados como Hyman Roth (Lee Strasberg) estão tentando matá-lo. Crescentemente paranoico, Michael também descobre que sua ambição acabou com seu casamento com Kay (Diane Keaton) e até mesmo seu irmão Fredo (John Cazale) o traiu. Escapando de uma acusação federal, Michael concentra sua atenção para lidar com os seus inimigos.'}, 'Ranking_5': {'Nome': '12 homens e uma sentença', 'Ano_de_lançamento': 1957, 'Sinopse': 'Um jovem porto-riquenho é acusado do brutal crime de ter matado o próprio pai. Quando ele vai a julgamento, doze jurados se reúnem para decidir a sentença, levando em conta que o réu deve ser considerado inocente até que se prove o contrário. Onze dos jurados têm plena certeza de que ele é culpado, e votam pela condenação, mas um jurado acha que é melhor investigar mais para que a sentença seja correta. Para isso ele terá que enfrentar diferentes interpretações dos fatos, e a má vontade dos outros jurados, que só querem ir logo para suas casas.'}, 'Ranking_6': {'Nome': 'A lista de Schindler', 'Ano_de_lançamento': 1993, 'Sinopse': 'A inusitada história de Oskar Schindler (Liam Neeson), um sujeito oportunista, sedutor, \"armador\", simpático, comerciante no mercado negro, mas, acima de tudo, um homem que se relacionava muito bem com o regime nazista, tanto que era membro do próprio Partido Nazista (o que não o impediu de ser preso algumas vezes, mas sempre o libertavam rapidamente, em razão dos seus contatos). No entanto, apesar dos seus defeitos, ele amava o ser humano e assim fez o impossível, a ponto de perder a sua fortuna mas conseguir salvar mais de mil judeus dos campos de concentração.'}, 'Ranking_7': {'Nome': 'O Senhor do Anéis: O retorno do Rei', 'Ano_de_lançamento': 2003, 'Sinopse': 'Sauron planeja um grande ataque a Minas Tirith, capital de Gondor, o que faz com que Gandalf e Pippin partam para o local na intenção de ajudar a resistência. Um exército é reunido por Theoden em Rohan, em mais uma tentativa de deter as forças de Sauron. Enquanto isso Frodo, Sam e Gollum seguem sua viagem rumo à Montanha da Perdição, para destruir o Um Anel.'}, 'Ranking_8': {'Nome': 'Pulp Fiction: tempo de violência', 'Ano_de_lançamento': 1994, 'Sinopse': 'Vincent Vega (John Travolta) e Jules Winnfield (Samuel L. Jackson) são dois assassinos profissionais trabalham fazendo cobranças para Marsellus Wallace (Ving Rhames), um poderosos gângster. Vega é forçado a sair com a garota do chefe, temendo passar dos limites; enquanto isso, o pugilista Butch Coolidge (Bruce Willis) se mete em apuros por ganhar luta que deveria perder.'}, 'Ranking_9': {'Nome': 'O Senhor dos Anéis: A sociedade do Anel', 'Ano_de_lançamento': 2001, 'Sinopse': 'Numa terra fantástica e única, chamada Terra-Média, um hobbit (seres de estatura entre 80 cm e 1,20 m, com pés peludos e bochechas um pouco avermelhadas) recebe de presente de seu tio o Um Anel, um anel mágico e maligno que precisa ser destruído antes que caia nas mãos do mal. Para isso o hobbit Frodo (Elijah Woods) terá um caminho árduo pela frente, onde encontrará perigo, medo e personagens bizarros. Ao seu lado para o cumprimento desta jornada aos poucos ele poderá contar com outros hobbits, um elfo, um anão, dois humanos e um mago, totalizando 9 pessoas que formarão a Sociedade do Anel.'}, 'Ranking_10': {'Nome': 'Três homens em conflito', 'Ano_de_lançamento': 1966, 'Sinopse': 'Em meio à Guerra Civil Norte-americana, três homens fazem de tudo para colocar as mãos em US$ 200 mil roubados, utilizando estratagemas diferentes, correndo contra o tempo e a concorrência voraz.'}}\n"
          ]
        }
      ]
    }
  ]
}
